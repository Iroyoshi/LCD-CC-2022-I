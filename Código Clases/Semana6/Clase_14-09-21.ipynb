{
 "cells": [
  {
   "cell_type": "markdown",
   "source": [
    "# Multiprocessing"
   ],
   "metadata": {}
  },
  {
   "cell_type": "code",
   "execution_count": 8,
   "source": [
    "import multiprocessing as mp\r\n",
    "\r\n",
    "\r\n",
    "def tarea(cadena):\r\n",
    "  print('Hola ',cadena)\r\n",
    "\r\n",
    "if __name__==\"__main__\": #Define si lo estabas viendo como programa principal o de otra manera\r\n",
    "  p=mp.Process(target=tarea,args=('Neo'))\r\n",
    "  p.start()\r\n",
    "\r\n"
   ],
   "outputs": [],
   "metadata": {}
  },
  {
   "cell_type": "code",
   "execution_count": 21,
   "source": [
    "import time \r\n",
    "\r\n",
    "def calc_cuad(numeros):\r\n",
    "  print('calcula el cuadrado de los numeros')\r\n",
    "  for n in numeros:\r\n",
    "    # print(n*n)\r\n",
    "    a=n**2\r\n",
    "\r\n",
    "\r\n",
    "def cub(numeros):\r\n",
    "  for n in numeros:\r\n",
    "    # print('cubo: ',n**3)\r\n",
    "    a=n**3\r\n",
    "\r\n",
    "nums=range(100)\r\n",
    "\r\n",
    "\r\n",
    "t1=time.time()\r\n",
    "\r\n",
    "calc_cuad(nums)\r\n",
    "cub(nums)\r\n",
    "\r\n",
    "print('secuencial: ',time.time()-t1)\r\n",
    "\r\n",
    "t2=time.time()\r\n",
    "p1=mp.Process(target=calc_cuad,args=(nums))\r\n",
    "p2=mp.Process(target=cub,args=(nums))\r\n",
    "p1.start()\r\n",
    "p1.join()\r\n",
    "p2.start()\r\n",
    "p2.join()\r\n",
    "print('Tiempo de ejecución procesos: ', time.time()-t2)\r\n",
    "\r\n",
    "t3=time.time()\r\n",
    "p1=mp.Process(target=calc_cuad,args=(nums))\r\n",
    "p2=mp.Process(target=cub,args=(nums))\r\n",
    "\r\n",
    "p1.start()\r\n",
    "p2.start()\r\n",
    "p1.join()\r\n",
    "p2.join()\r\n",
    "\r\n",
    "print('Tiempo de ejecución concurrente: ', time.time()-t3)\r\n",
    "\r\n",
    "\r\n"
   ],
   "outputs": [
    {
     "output_type": "stream",
     "name": "stdout",
     "text": [
      "calcula el cuadrado de los numeros\n",
      "secuencial:  0.0010006427764892578\n",
      "Tiempo de ejecución procesos:  0.2190539836883545\n",
      "Tiempo de ejecución concurrente:  0.12402796745300293\n"
     ]
    }
   ],
   "metadata": {}
  },
  {
   "cell_type": "markdown",
   "source": [
    "# Ejercicio\r\n",
    "1. calcula el cuadrado y el cubo de un arreglo de tamaño 100 de manera secuencial con funciones y calcula su tiempo de ejecución con `time.time()`\r\n",
    "2. calcula el cuadrado y el cubo usando procesos y calcula el tiempo de ejecución\r\n",
    "3. Calcula el cuadrado y el cubo usando proceso y varía el `start`y `join`de los procesos, calcula el tiempo de ejecución."
   ],
   "metadata": {}
  },
  {
   "cell_type": "markdown",
   "source": [],
   "metadata": {}
  }
 ],
 "metadata": {
  "orig_nbformat": 4,
  "language_info": {
   "name": "python",
   "version": "3.7.9",
   "mimetype": "text/x-python",
   "codemirror_mode": {
    "name": "ipython",
    "version": 3
   },
   "pygments_lexer": "ipython3",
   "nbconvert_exporter": "python",
   "file_extension": ".py"
  },
  "kernelspec": {
   "name": "python3",
   "display_name": "Python 3.7.9 64-bit"
  },
  "interpreter": {
   "hash": "684b1123683431d89d3bfe9a89cc763215f4b8cd94b4aba1fb40ad45ff7c8b41"
  }
 },
 "nbformat": 4,
 "nbformat_minor": 2
}

